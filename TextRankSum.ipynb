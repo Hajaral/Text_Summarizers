{
  "nbformat": 4,
  "nbformat_minor": 0,
  "metadata": {
    "colab": {
      "provenance": []
    },
    "kernelspec": {
      "name": "python3",
      "display_name": "Python 3"
    }
  },
  "cells": [
    {
      "cell_type": "code",
      "metadata": {
        "id": "WeptlGXN2MnF",
        "colab": {
          "base_uri": "https://localhost:8080/"
        },
        "outputId": "9aaed3e1-0142-4ea6-e3e3-4014a1190324"
      },
      "source": [
        "#libraries\n",
        "import numpy as np\n",
        "import pandas as pd\n",
        "import nltk\n",
        "from nltk.tokenize import sent_tokenize\n",
        "nltk.download('punkt') \n",
        "import re"
      ],
      "execution_count": null,
      "outputs": [
        {
          "output_type": "stream",
          "name": "stdout",
          "text": [
            "[nltk_data] Downloading package punkt to /root/nltk_data...\n",
            "[nltk_data]   Unzipping tokenizers/punkt.zip.\n"
          ]
        }
      ]
    },
    {
      "cell_type": "code",
      "metadata": {
        "id": "z_aSx78ZGpcN",
        "colab": {
          "base_uri": "https://localhost:8080/"
        },
        "outputId": "89e5a03e-e45c-456f-b0b5-9118f0f6eaf2"
      },
      "source": [
        "from google.colab import drive\n",
        "drive.mount('/content/drive')"
      ],
      "execution_count": null,
      "outputs": [
        {
          "output_type": "stream",
          "name": "stdout",
          "text": [
            "Mounted at /content/drive\n"
          ]
        }
      ]
    },
    {
      "cell_type": "code",
      "metadata": {
        "id": "335A-qK0v4Zz"
      },
      "source": [
        "data = pd.read_csv('/content/drive/MyDrive/Tweets.csv') \n",
        "data = data[['text','airline_sentiment', 'airline']]"
      ],
      "execution_count": null,
      "outputs": []
    },
    {
      "cell_type": "code",
      "metadata": {
        "id": "-TqyVr0ph8gV"
      },
      "source": [
        "#data.head()"
      ],
      "execution_count": null,
      "outputs": []
    },
    {
      "cell_type": "code",
      "metadata": {
        "id": "HpCZR_1Xdf4e",
        "colab": {
          "base_uri": "https://localhost:8080/",
          "height": 206
        },
        "outputId": "c2a0752a-fb3b-4cab-874d-12fcc6df4b29"
      },
      "source": [
        "#select negative tweets of US Airways company to genrate summary of this tweets' document(or we can select any another item's document)\n",
        "#Negative_tweets_related_to_US_Airways\n",
        "neg_tweets = data [(data ['airline_sentiment'] == \"positive\") & (data['airline'] == \"US Airways\")]\n",
        "neg_tweets.head ()"
      ],
      "execution_count": null,
      "outputs": [
        {
          "output_type": "execute_result",
          "data": {
            "text/plain": [
              "                                                   text airline_sentiment  \\\n",
              "8974  @USAirways we were moved to a delta direct. Th...          positive   \n",
              "8985  @USAirways Well I did miss it. But gate agents...          positive   \n",
              "8993  @USAirways thank you! I will be calling you! #...          positive   \n",
              "8999                  @USAirways getting sorted, thanks          positive   \n",
              "9003                             @USAirways thank you!!          positive   \n",
              "\n",
              "         airline  \n",
              "8974  US Airways  \n",
              "8985  US Airways  \n",
              "8993  US Airways  \n",
              "8999  US Airways  \n",
              "9003  US Airways  "
            ],
            "text/html": [
              "\n",
              "  <div id=\"df-bdf1b90e-1f5c-46bd-ba1a-6f3103ae9c1c\">\n",
              "    <div class=\"colab-df-container\">\n",
              "      <div>\n",
              "<style scoped>\n",
              "    .dataframe tbody tr th:only-of-type {\n",
              "        vertical-align: middle;\n",
              "    }\n",
              "\n",
              "    .dataframe tbody tr th {\n",
              "        vertical-align: top;\n",
              "    }\n",
              "\n",
              "    .dataframe thead th {\n",
              "        text-align: right;\n",
              "    }\n",
              "</style>\n",
              "<table border=\"1\" class=\"dataframe\">\n",
              "  <thead>\n",
              "    <tr style=\"text-align: right;\">\n",
              "      <th></th>\n",
              "      <th>text</th>\n",
              "      <th>airline_sentiment</th>\n",
              "      <th>airline</th>\n",
              "    </tr>\n",
              "  </thead>\n",
              "  <tbody>\n",
              "    <tr>\n",
              "      <th>8974</th>\n",
              "      <td>@USAirways we were moved to a delta direct. Th...</td>\n",
              "      <td>positive</td>\n",
              "      <td>US Airways</td>\n",
              "    </tr>\n",
              "    <tr>\n",
              "      <th>8985</th>\n",
              "      <td>@USAirways Well I did miss it. But gate agents...</td>\n",
              "      <td>positive</td>\n",
              "      <td>US Airways</td>\n",
              "    </tr>\n",
              "    <tr>\n",
              "      <th>8993</th>\n",
              "      <td>@USAirways thank you! I will be calling you! #...</td>\n",
              "      <td>positive</td>\n",
              "      <td>US Airways</td>\n",
              "    </tr>\n",
              "    <tr>\n",
              "      <th>8999</th>\n",
              "      <td>@USAirways getting sorted, thanks</td>\n",
              "      <td>positive</td>\n",
              "      <td>US Airways</td>\n",
              "    </tr>\n",
              "    <tr>\n",
              "      <th>9003</th>\n",
              "      <td>@USAirways thank you!!</td>\n",
              "      <td>positive</td>\n",
              "      <td>US Airways</td>\n",
              "    </tr>\n",
              "  </tbody>\n",
              "</table>\n",
              "</div>\n",
              "      <button class=\"colab-df-convert\" onclick=\"convertToInteractive('df-bdf1b90e-1f5c-46bd-ba1a-6f3103ae9c1c')\"\n",
              "              title=\"Convert this dataframe to an interactive table.\"\n",
              "              style=\"display:none;\">\n",
              "        \n",
              "  <svg xmlns=\"http://www.w3.org/2000/svg\" height=\"24px\"viewBox=\"0 0 24 24\"\n",
              "       width=\"24px\">\n",
              "    <path d=\"M0 0h24v24H0V0z\" fill=\"none\"/>\n",
              "    <path d=\"M18.56 5.44l.94 2.06.94-2.06 2.06-.94-2.06-.94-.94-2.06-.94 2.06-2.06.94zm-11 1L8.5 8.5l.94-2.06 2.06-.94-2.06-.94L8.5 2.5l-.94 2.06-2.06.94zm10 10l.94 2.06.94-2.06 2.06-.94-2.06-.94-.94-2.06-.94 2.06-2.06.94z\"/><path d=\"M17.41 7.96l-1.37-1.37c-.4-.4-.92-.59-1.43-.59-.52 0-1.04.2-1.43.59L10.3 9.45l-7.72 7.72c-.78.78-.78 2.05 0 2.83L4 21.41c.39.39.9.59 1.41.59.51 0 1.02-.2 1.41-.59l7.78-7.78 2.81-2.81c.8-.78.8-2.07 0-2.86zM5.41 20L4 18.59l7.72-7.72 1.47 1.35L5.41 20z\"/>\n",
              "  </svg>\n",
              "      </button>\n",
              "      \n",
              "  <style>\n",
              "    .colab-df-container {\n",
              "      display:flex;\n",
              "      flex-wrap:wrap;\n",
              "      gap: 12px;\n",
              "    }\n",
              "\n",
              "    .colab-df-convert {\n",
              "      background-color: #E8F0FE;\n",
              "      border: none;\n",
              "      border-radius: 50%;\n",
              "      cursor: pointer;\n",
              "      display: none;\n",
              "      fill: #1967D2;\n",
              "      height: 32px;\n",
              "      padding: 0 0 0 0;\n",
              "      width: 32px;\n",
              "    }\n",
              "\n",
              "    .colab-df-convert:hover {\n",
              "      background-color: #E2EBFA;\n",
              "      box-shadow: 0px 1px 2px rgba(60, 64, 67, 0.3), 0px 1px 3px 1px rgba(60, 64, 67, 0.15);\n",
              "      fill: #174EA6;\n",
              "    }\n",
              "\n",
              "    [theme=dark] .colab-df-convert {\n",
              "      background-color: #3B4455;\n",
              "      fill: #D2E3FC;\n",
              "    }\n",
              "\n",
              "    [theme=dark] .colab-df-convert:hover {\n",
              "      background-color: #434B5C;\n",
              "      box-shadow: 0px 1px 3px 1px rgba(0, 0, 0, 0.15);\n",
              "      filter: drop-shadow(0px 1px 2px rgba(0, 0, 0, 0.3));\n",
              "      fill: #FFFFFF;\n",
              "    }\n",
              "  </style>\n",
              "\n",
              "      <script>\n",
              "        const buttonEl =\n",
              "          document.querySelector('#df-bdf1b90e-1f5c-46bd-ba1a-6f3103ae9c1c button.colab-df-convert');\n",
              "        buttonEl.style.display =\n",
              "          google.colab.kernel.accessAllowed ? 'block' : 'none';\n",
              "\n",
              "        async function convertToInteractive(key) {\n",
              "          const element = document.querySelector('#df-bdf1b90e-1f5c-46bd-ba1a-6f3103ae9c1c');\n",
              "          const dataTable =\n",
              "            await google.colab.kernel.invokeFunction('convertToInteractive',\n",
              "                                                     [key], {});\n",
              "          if (!dataTable) return;\n",
              "\n",
              "          const docLinkHtml = 'Like what you see? Visit the ' +\n",
              "            '<a target=\"_blank\" href=https://colab.research.google.com/notebooks/data_table.ipynb>data table notebook</a>'\n",
              "            + ' to learn more about interactive tables.';\n",
              "          element.innerHTML = '';\n",
              "          dataTable['output_type'] = 'display_data';\n",
              "          await google.colab.output.renderOutput(dataTable, element);\n",
              "          const docLink = document.createElement('div');\n",
              "          docLink.innerHTML = docLinkHtml;\n",
              "          element.appendChild(docLink);\n",
              "        }\n",
              "      </script>\n",
              "    </div>\n",
              "  </div>\n",
              "  "
            ]
          },
          "metadata": {},
          "execution_count": 26
        }
      ]
    },
    {
      "cell_type": "code",
      "metadata": {
        "id": "2lfVW--Os3ba"
      },
      "source": [
        "features = neg_tweets.iloc[:, 0].values\n",
        "#features"
      ],
      "execution_count": null,
      "outputs": []
    },
    {
      "cell_type": "code",
      "metadata": {
        "id": "_MARh9b9sihG"
      },
      "source": [
        "features1 = features.tolist()"
      ],
      "execution_count": null,
      "outputs": []
    },
    {
      "cell_type": "code",
      "metadata": {
        "id": "PVs0Q4C8coxe"
      },
      "source": [
        "#len(features1)"
      ],
      "execution_count": null,
      "outputs": []
    },
    {
      "cell_type": "code",
      "source": [
        "processed_features = []\n",
        "\n",
        "for sentence in range(0, len(features1)):\n",
        "    # Remove all the special characters\n",
        "    processed_feature = re.sub(r'\\W', ' ', str(features1[sentence]))\n",
        "    # remove all single characters\n",
        "    processed_feature= re.sub(r'\\s+[a-zA-Z]\\s+', ' ', processed_feature)\n",
        "\n",
        "    # Remove single characters from the start\n",
        "    processed_feature = re.sub(r'\\^[a-zA-Z]\\s+', ' ', processed_feature) \n",
        "\n",
        "    # Substituting multiple spaces with single space\n",
        "    processed_feature = re.sub(r'\\s+', ' ', processed_feature, flags=re.I)\n",
        "\n",
        "    # Removing prefixed 'b'\n",
        "    processed_feature = re.sub(r'^b\\s+', '', processed_feature)\n",
        "    # Converting to Lowercase\n",
        "    processed_feature = processed_feature.lower()\n",
        "    processed_features.append(processed_feature)"
      ],
      "metadata": {
        "id": "nvRiZuZmyyaQ"
      },
      "execution_count": null,
      "outputs": []
    },
    {
      "cell_type": "code",
      "source": [
        "import nltk\n",
        "nltk.download('stopwords')\n",
        "from nltk.corpus import stopwords\n",
        "stop_words = stopwords.words('english')"
      ],
      "metadata": {
        "colab": {
          "base_uri": "https://localhost:8080/"
        },
        "id": "bjWrTosI2E51",
        "outputId": "6b4ceb05-adad-4837-cd6b-3a5956c1cecd"
      },
      "execution_count": null,
      "outputs": [
        {
          "output_type": "stream",
          "name": "stdout",
          "text": [
            "[nltk_data] Downloading package stopwords to /root/nltk_data...\n",
            "[nltk_data]   Package stopwords is already up-to-date!\n"
          ]
        }
      ]
    },
    {
      "cell_type": "code",
      "source": [
        "def remove_stop_words(corpus):\n",
        "    removed_stop_words = []\n",
        "    for review in corpus:\n",
        "        removed_stop_words.append(\n",
        "            ' '.join([word for word in review.split()  if word not in stop_words]))\n",
        "    return removed_stop_words"
      ],
      "metadata": {
        "id": "4we77DL42UUR"
      },
      "execution_count": null,
      "outputs": []
    },
    {
      "cell_type": "code",
      "source": [
        "processed_features = remove_stop_words(processed_features)\n",
        "processed_features"
      ],
      "metadata": {
        "colab": {
          "base_uri": "https://localhost:8080/"
        },
        "id": "0xx6JSrQJEv7",
        "outputId": "732452c7-adb4-4601-ea61-76bf64736af7"
      },
      "execution_count": null,
      "outputs": [
        {
          "output_type": "execute_result",
          "data": {
            "text/plain": [
              "['usairways moved delta direct thank accommodations',\n",
              " 'usairways well miss gate agents rebooked boarding pass waiting landed time lunch amp beverage easy cheesy',\n",
              " 'usairways thank calling cheapoairchat',\n",
              " 'usairways getting sorted thanks',\n",
              " 'usairways thank',\n",
              " 'usairways great job today team challenging weather delay flight 1925 charlotte travel friendlyteam',\n",
              " 'usairways thank much',\n",
              " 'usairways thanks',\n",
              " 'usairways made thx',\n",
              " 'usairways glad beamske retweeted otherwise would ignore numerous tweets sent fucking amazing',\n",
              " 'usairways haha worries guys best 1 spelling name correctly',\n",
              " 'usairways see board tomorrow',\n",
              " 'usairways waiting flight right thanks',\n",
              " 'usairways back gate opposite wheels im sure get thete eventually thanks',\n",
              " 'usairways knows customer service thank starting 2 week vacay amazing note thank sarita',\n",
              " 'usairways excited flying syracuse interview dallas friday fa position goal amp dream mine',\n",
              " 'usairways great crew flight 504 phx yvr tonight friendly efficient awesome job',\n",
              " 'usairways thank empathy story luggage thank reaching',\n",
              " 'usairways thanks much got thru phone amp everything fine love website amp app thanks working',\n",
              " 'grace god made usairways __rwg__ powers hope make flight',\n",
              " 'usairways worries flight attendant took care',\n",
              " 'usairways americanair bring guinea pigs small pet carrier onboard flights',\n",
              " 'usairways good work flight 1798 crew chairman recognition even coach many missedupgrades late flightly',\n",
              " 'usairways thanks sent dm baggage issues',\n",
              " 'usairways customer service best rachel took great care us phx airport http co hg7veqhghy',\n",
              " 'great management usairways twitter account thank',\n",
              " 'usairways found thank',\n",
              " 'usairways thank resolving issue direct flight sfo united',\n",
              " 'usairways ok thanks',\n",
              " 'usairways check get airport thanks',\n",
              " 'usairways thanks reply good note pilot nailed landing seriously kudos',\n",
              " 'usairways 4 great flights delays thank',\n",
              " 'usairways look flying rocks time bird plane nah never mind rock',\n",
              " 'usairways owes tammy winston salem call center keeping customer',\n",
              " 'usairways made thanks help',\n",
              " 'usairways huge props parizad checkin sacramento help friday get 3 us home airlines delayed',\n",
              " 'usairways americanair shout diane eyw helping get us home today instead tomorrow even little late flight',\n",
              " 'usairways made huge relief thanks help',\n",
              " 'usairways thanks hope maybe put good word',\n",
              " 'usairways wow unbelievable treat customers puerto rico airport',\n",
              " 'usairways breathing heavily super helpful thank',\n",
              " 'usairways okay great thank',\n",
              " 'usairways customer service like never seen kudos organization',\n",
              " 'usairways called able get rescheduled thank quick responses today',\n",
              " 'usairways phone called 6170 number picked almost immediately',\n",
              " 'usairways 603 amp 2705 dfw psp thank',\n",
              " 'usairways 1899 thanks',\n",
              " 'usairways fyi customer service rep carol absolute delight pleasant rebooked lightning speed thanks',\n",
              " 'usairways dominick la guardia airport nyc gives absolute best customer service thanku checking made easy',\n",
              " 'usairways thanks information',\n",
              " 'usairways thankful orf dca crews ground air today help sick kid lost bag',\n",
              " 'usairways thank',\n",
              " 'usairways clt baggage crew deserves kudos run make connection bags still made customerservice',\n",
              " 'usairways thanks',\n",
              " 'usairways alright please give scott bdl bonus excellent customer service',\n",
              " 'usairways hegshmeg thank elaborate response',\n",
              " 'usairways best amazing follow please',\n",
              " 'usairways happy note 719 crew wonderful say enough great things pilot us',\n",
              " 'usairways landonschott fine really likes picking seat',\n",
              " 'usairways thank next time',\n",
              " 'usairways looks like bag rescued thanks',\n",
              " 'usairways since loyal usair customer sure make right want get home amp back work',\n",
              " 'usairways janet amp den phl flight cancelled flightled saturday usair rescheduled automatically amp notified us email additional cost',\n",
              " 'usairways entire flight crew flight 738 bos phl wonderful job making experience totally suck',\n",
              " 'usairways americanair major issues getting boston crew exceptional let see things roll philly',\n",
              " 'usairways thanks whole team time flight despite inclement weather http co eqepkkpsxm',\n",
              " 'usairways great thank',\n",
              " 'usairways often airline easy work needed change flight time attendants mke made day',\n",
              " 'usairways another great flight funflightattendants thanks showing dad wonderful customer service flt635 lax phx sundayfunday',\n",
              " 'usairways americanair thank couple easy hassle free flights today professional friendly staff made everything easy',\n",
              " 'usairways please keep emily gso airport ticketing staff amazing',\n",
              " 'usairways provided best service today thank much',\n",
              " 'usairways despite mechanical issues many delays followed cancelled flightlation still getting vegas thanks great gate agents',\n",
              " 'usairways ann marie lga best ticket agent ever excellentcustomerservice',\n",
              " 'usairways new dfw clt morning great job well done',\n",
              " 'usairways painless effortless flight indy phl flight attendant tory fantastic give lady raise asap',\n",
              " 'usairways thanks friendly us airways staff helped get booked various flights get home today almost',\n",
              " 'usairways finally spoke person despite mind boggling wait time rep pleasant helpful kudos',\n",
              " 'usairways mellani whole team columbia sc absolute superstars incredibly helpful',\n",
              " 'usairways please thank mellie cae tammy baggage claim clt 4 excellent customer service 2day complaint',\n",
              " 'usairways accommodation number lisa liza raleigh helpful',\n",
              " 'usairways worked tiffany cust service desk charlotte helpful patient still stuck great',\n",
              " 'usairways good morning',\n",
              " 'usairways many thanks reply http co 6cgfv02gzb',\n",
              " 'usairways job well done philly employee running check today tabitha helped us emergency amp vacation saved',\n",
              " 'usairways thanks http co pd7r1ll6re',\n",
              " 'usairways ok thank helpful favorite airline',\n",
              " 'usairways thanks guys got hold someone really awesome service appreciate',\n",
              " 'usairways first class service us 769 phl mco today flight attendant catch name top notch',\n",
              " 'usairways oh well get cancun eventually',\n",
              " 'usairways eyyyy cancelled flightlations flight booking problemss reflight booking problemss got flight tonight tomorrow amp fc upgrade thx',\n",
              " 'usairways thank',\n",
              " 'usairways wasnt flying airline tonight however friend present help flying united could learn',\n",
              " 'usairways plane crew professional courteous gate agents flustered',\n",
              " 'usairways ticket agents gate 4 providence airport rocked tonight especially kristy sorry correct spelling',\n",
              " 'usairways shoutout 2 kristie sp gate4 pvd today rockstar tremendous help tough situation promotethatgirl',\n",
              " 'usairways thank help today loyal us airways customer appreciate responding tweets',\n",
              " 'usairways already pleasant flight london charlotte us733 made fantastic amazing attendant thank much robert',\n",
              " 'usairways woohoo still 1 flight happy hear air cried must preggo hormones thx',\n",
              " 'usairways thank whole crew rocked bad weather diversion pilot keeping us well informed customerservice',\n",
              " 'usairways hope get opportunity join team job opening',\n",
              " 'usairways thank always good follow',\n",
              " 'usairways problem person airport would help',\n",
              " 'usairways thank 1875 bwi keep seeing different stats delayed awaiting take delayed',\n",
              " 'usairways nick flight 742 awesome please reward way kept us smiling bad day travel customerservice',\n",
              " 'usairways sitting plane philadelphia 20 minutes waiting get plane great service',\n",
              " 'usairways big thank ticketing agent ute dulles washington outstanding guest service get rebooked',\n",
              " 'usairways love guys',\n",
              " 'usairways wait trip thanks getting',\n",
              " 'usairways team member dca tamara name awesome employees like',\n",
              " 'usairways thanks getting us ur plane awesome flight attendant making us smile difficult travel customerservice',\n",
              " 'usairways stars aligned connecting flight delayed clt made thanks glad know someone listening time 80 mobay',\n",
              " 'usairways big thanks gate agent flt5127 keeping us informed delay greatcustomerservice',\n",
              " 'usairways ok thank',\n",
              " 'usairways got thanks',\n",
              " 'usairways spoke representative moved flight earlier thank much follow',\n",
              " 'usairways hey guys want say best flight ever thank much fell asleep actually wet dream',\n",
              " 'usairways worry found hotel 45min away got around 11 30pm problem',\n",
              " 'usairways kudos robin phxskyharbor lost found reuniting ipad delightful work',\n",
              " 'usairways experience exceptional service cherry denverairport greatservice professionalism',\n",
              " 'usairways',\n",
              " 'usairways thank supervisor jeanine coworkers excellent customer service provided',\n",
              " 'usairways yes thank great job turning flight jan',\n",
              " 'usairways connection made thanks week daddyshome',\n",
              " 'usairways thank',\n",
              " 'usairways yes thank appreciate checking',\n",
              " 'usairways enjoying flights far great job today tough thanks making flights comfortable',\n",
              " 'usairways shavon customer service desk charlotte fantastic helpful smiling evn sounds like long day reward',\n",
              " 'usairways check staff phx awesome great traffic control general boarding',\n",
              " 'usairways talked reservation must congratulation friendly good usair airline fly',\n",
              " 'usairways awesome flight 676 philly tuesday party row 15 interested',\n",
              " 'usairways got able switch flight charge thank',\n",
              " 'usairways welcome north texas us air american air employees housing education great opportunities gr8 state texas',\n",
              " 'usairways thanks dc yet see keep link check back appreciate',\n",
              " 'usairways awesome yes upinairclaire',\n",
              " 'usairways melinda reservations greensboro nc absolute jewel thank amazing',\n",
              " 'usairways best gagent long time danny us628 dfw clt appreciated date kept us irrops super professional',\n",
              " 'usairways good news got fixed',\n",
              " 'usairways thank',\n",
              " 'usairways thank',\n",
              " 'usairways reservation agent phone great job',\n",
              " 'usairways made send bloody mary row 27',\n",
              " 'usairways thanks helping reflight booking problems cancelled flightedflight yvonne anthony help us get tel aviv time happyfriday',\n",
              " 'usairways big thanks yvonne anthony chairman desk top tier customer service today outstanding service amp support',\n",
              " 'usairways appreciate prompt response',\n",
              " 'usairways thks us 1786 2 19 phl fll overall 1st class improved food phl fll crews super',\n",
              " 'usairways thank refunding baggage really appreciate',\n",
              " 'usairways americanair going miss us airways always provided great service never let',\n",
              " 'usairways sunday days away',\n",
              " 'usairways jdbwaffles excited fly us jb spring break',\n",
              " 'usairways thank least tweeting back better',\n",
              " 'usairways exicted flying soon',\n",
              " 'usairways fa attendant 4553 phl pwm tonight fab asset team 1f great night team',\n",
              " 'usairways 2 grandbabies 2 weeks travel dc births thank reasonable fares see saturday',\n",
              " 'usairways thank usairways fare dtw dca much lower delta southwestair thank',\n",
              " 'usairways know thanks evaluate chairman',\n",
              " 'usairways thanks getting rescheduled direct flight nola tonight 10 minutes hopefully hour earlier getting',\n",
              " 'usairways thank finally got bag customer services reps wonderful',\n",
              " 'usairways flight 437 phx gt ord lead fa bill professional fa seen 9 years flying usair ab cards',\n",
              " 'usairways miss work taken philly flight 1776 bos gt phl many times res seat',\n",
              " 'usairways problem things worked airport thanks',\n",
              " 'usairways yes domestic flight thank',\n",
              " 'usairways thanks made safely http co kcqebeej7s',\n",
              " 'usairways love changes lounge cheese veggies olives addition crackers snack mix',\n",
              " 'usairways thanks another method also would nice appears design flaw',\n",
              " 'usairways lol',\n",
              " 'usairways thanks gate agent state college pa able get earlier flight figure earlier connection',\n",
              " 'usairways think weird mileage 666',\n",
              " 'usairways thanks',\n",
              " 'usairways success made flight please thank crew 556 great time recovery',\n",
              " 'usairways far good week sav clt boarded departure time first time 4 weeks perhaps time departure',\n",
              " 'usairways lilly sju check fabulous',\n",
              " 'usairways thank',\n",
              " 'usairways tbt every day',\n",
              " 'usairways dl send ethan new pants white revive laundry tabs great guy good crew err single',\n",
              " 'usairways thank refunding bag fee look forward return today hope',\n",
              " 'usairways thank',\n",
              " 'usairways 1917 thanks 5 hour layover la icing cake least staff courteous helpful unreal',\n",
              " 'usairways thanks slowing inbound plane need worry 4438 eyw late flight great holz ahead cheers',\n",
              " 'usairways kudos phone support charlotte gate staff',\n",
              " 'usairways',\n",
              " 'usairways thank filled claim hope bags tomorrow',\n",
              " 'usairways done',\n",
              " 'usairways captain flight 1712 phx phl 3 55 tonight hilarious greetings pointy end airplane haha thanks',\n",
              " 'usairways thank fixing 5 hour delay',\n",
              " 'usairways 4 flights 48hrs amp flight attendant 3 flights freaky coincidence plus side great',\n",
              " 'usairways landed safely everything worked',\n",
              " 'usairways sunday wait see',\n",
              " 'usairways finally rectified flight situation thanks',\n",
              " 'usairways time today phl nice work thereisafirstforeverything',\n",
              " 'usairways ice cream front solid',\n",
              " 'usairways shout pilots fc attendant eliz us 673 super strong crosswinds landing eliz super job throughout',\n",
              " 'usairways marsha myrtle beach greatest deserves respect praise thankyouforeverything',\n",
              " 'usairways departed yet let get high hopes everything schedule far',\n",
              " 'usairways ok thank told ground delay due snow',\n",
              " 'usairways americanair first class way headed portlandjetport http co kdmq0jps02',\n",
              " 'usairways pple great job madness however systems need help appreciate hard work amp push better',\n",
              " 'usairways thanks giving away seat another fine job http co r7ibqr4cyd',\n",
              " 'usairways thanks',\n",
              " 'usairways thanks betty working gate ilm lovely gate agents clt helping get home 2 phx tonight instead tomorrow',\n",
              " 'usairways surprisingly quick response time thanks',\n",
              " 'usairways thanks help remind agents ok ps heard rumors streaming wifi tv movie service might installing',\n",
              " 'usairways thanks',\n",
              " 'usairways also appreciated hashtag lucycat',\n",
              " 'usairways best follow please',\n",
              " 'usairways thanks reaching gold div 2k424j0 flights changed confirmation dnx58v',\n",
              " 'usairways yes flight attendant wonderful btw secured tray table flailing http co jhxwmutx4g',\n",
              " 'usairways thanks seating next 2 hot athletes flight significantly better',\n",
              " 'usairways thank way get bag thanks number',\n",
              " 'usairways thank busy times',\n",
              " 'usairways thanks',\n",
              " 'usairways amazing follow back please',\n",
              " 'usairways thanks much',\n",
              " 'usairways best follow please',\n",
              " 'usairways still air deicing plane miss connect customer service helpful hoping catch next flight',\n",
              " 'usairways work hard making sure things flow smoothly keeping positive',\n",
              " 'usairways boarding yet depart thanks response',\n",
              " 'usairways totally understand weather frustrated thanks',\n",
              " 'usairways thx gate agt john pascucci finding us flight clt pvd original one cancelled flightled http co yiwlhqhzgp',\n",
              " 'usairways best follow please',\n",
              " 'usairways americanair svllindia provides best logistics experience people india mumbai surat navimumbai',\n",
              " 'usairways best airways follow please',\n",
              " 'usairways shout red headed gate agent flt 3389 dca chs 7 10 tonight get name great',\n",
              " 'usairways dude named shaquille desk charlotte incredibly professional helpful vs crazy angry people tonight',\n",
              " 'usairways awesome usair tysvm lt 3',\n",
              " 'usairways thank',\n",
              " 'usairways would lovely great people working organization',\n",
              " 'usairways tyvm usair happy night lt 3',\n",
              " 'usairways thanks hectic everyone actions represent company well imo',\n",
              " 'usairways glad home great people got home safely sad others get back bc scheduling problems',\n",
              " 'usairways appreciate response',\n",
              " 'usairways thanks kevin team f38ish phl great service recovery tonight appreciate',\n",
              " 'usairways thanks help left message dca lost found fingers crossed find',\n",
              " 'usairways thank glad heading home great people call center',\n",
              " 'usairways thx 4 replying trying 2 get thru many times amp mail people hanging us talked 2 tech cont',\n",
              " 'usairways ha fun',\n",
              " 'usairways flying high thanks',\n",
              " 'usairways thanks would better gate agent c14 charlotte boarding flight 1791',\n",
              " 'usairways thanks',\n",
              " 'usairways weather mess south missed connection clt impressed though cust serv phone reps today',\n",
              " 'usairways frustrating days flights home changed airlines thank phl usairway employees amp united help getting back iah',\n",
              " 'usairways flight 604 thanks',\n",
              " 'usairways best airways follow back please',\n",
              " 'usairways thank thanks accommodating',\n",
              " 'usairways amazing best follow please',\n",
              " 'usairways thanks',\n",
              " 'usairways best airways follow please',\n",
              " 'usairways amazing best follow please follow back',\n",
              " 'usairways sending thanks employee freddie phl admiral club east allowing give day pass sibling stuck today',\n",
              " 'usairways guys 1 choice',\n",
              " 'usairways thanks',\n",
              " 'usairways drink voucher next flight winkwink',\n",
              " 'usairways nice touch using first name intimate filing claim soon reimbursed us airways day',\n",
              " 'usairways missing flight reflight booking problems 2x walked onto another flight phone still seat',\n",
              " 'usairways thanks travis phl east checkin knowing baggage policies skis amp boots count 1 teach mgr know',\n",
              " 'usairways right amp away',\n",
              " 'usairways thank much stressful day',\n",
              " 'usairways absolutely staff amazing',\n",
              " 'usairways haha indeed great day',\n",
              " 'usairways thank tried said anywhere else try',\n",
              " 'usairways customer service finest',\n",
              " 'usairways fabulous thank much looking forward taking skies',\n",
              " 'usairways exceptional service flight 403 ind phx',\n",
              " 'usairways crew keeping safety top mind clt http co a0yosjhzmc',\n",
              " 'usairways hoping voucher future flight optimistic',\n",
              " 'usairways thanks',\n",
              " 'usairways please give tara pat back praise helpful phl member lounge',\n",
              " 'usairways thanks hope get destination',\n",
              " 'usairways thanks reply hoping everything cleared charlotte monday']"
            ]
          },
          "metadata": {},
          "execution_count": 32
        }
      ]
    },
    {
      "cell_type": "code",
      "source": [
        "!pip install stem\n",
        "!pip install stemming"
      ],
      "metadata": {
        "colab": {
          "base_uri": "https://localhost:8080/"
        },
        "id": "HqcaMdry2aXl",
        "outputId": "4c51ddb2-6f19-4aaa-b713-b56fb52c6e5d"
      },
      "execution_count": null,
      "outputs": [
        {
          "output_type": "stream",
          "name": "stdout",
          "text": [
            "Looking in indexes: https://pypi.org/simple, https://us-python.pkg.dev/colab-wheels/public/simple/\n",
            "Collecting stem\n",
            "  Downloading stem-1.8.0.tar.gz (2.9 MB)\n",
            "\u001b[K     |████████████████████████████████| 2.9 MB 5.1 MB/s \n",
            "\u001b[?25hBuilding wheels for collected packages: stem\n",
            "  Building wheel for stem (setup.py) ... \u001b[?25l\u001b[?25hdone\n",
            "  Created wheel for stem: filename=stem-1.8.0-py3-none-any.whl size=436052 sha256=e8d3e7609a2e799c20873158f78d8532c6c7dc4ce273155275794ef311004263\n",
            "  Stored in directory: /root/.cache/pip/wheels/77/73/98/4f0966106838e9a11710b56790f413ce6ae62e78257f8653c9\n",
            "Successfully built stem\n",
            "Installing collected packages: stem\n",
            "Successfully installed stem-1.8.0\n",
            "Looking in indexes: https://pypi.org/simple, https://us-python.pkg.dev/colab-wheels/public/simple/\n",
            "Collecting stemming\n",
            "  Downloading stemming-1.0.1.zip (13 kB)\n",
            "Building wheels for collected packages: stemming\n",
            "  Building wheel for stemming (setup.py) ... \u001b[?25l\u001b[?25hdone\n",
            "  Created wheel for stemming: filename=stemming-1.0.1-py3-none-any.whl size=11138 sha256=86c5969db7e150c6436d8232c015b06a1c7d417f5c5f651f0f09d6349045bf24\n",
            "  Stored in directory: /root/.cache/pip/wheels/6b/e5/e2/c52ebc0a5b53fd82b00cc385e57bb1c90bd50e5f54ddbc06d1\n",
            "Successfully built stemming\n",
            "Installing collected packages: stemming\n",
            "Successfully installed stemming-1.0.1\n"
          ]
        }
      ]
    },
    {
      "cell_type": "code",
      "source": [
        "from stemming.porter2 import stem"
      ],
      "metadata": {
        "id": "JlE4X8w72gwJ"
      },
      "execution_count": null,
      "outputs": []
    },
    {
      "cell_type": "code",
      "source": [
        "documents = processed_features"
      ],
      "metadata": {
        "id": "RQgKHy742o9R"
      },
      "execution_count": null,
      "outputs": []
    },
    {
      "cell_type": "code",
      "source": [
        "documents = [\" \".join([stem(word) for word in sentence.split(\" \")]) for sentence in documents]"
      ],
      "metadata": {
        "id": "S95qRDY82pwy"
      },
      "execution_count": null,
      "outputs": []
    },
    {
      "cell_type": "code",
      "source": [
        "documents[5]"
      ],
      "metadata": {
        "colab": {
          "base_uri": "https://localhost:8080/",
          "height": 36
        },
        "id": "80sOjqxK2xyF",
        "outputId": "f2bf4b08-d917-458a-fa06-520bb0f00422"
      },
      "execution_count": null,
      "outputs": [
        {
          "output_type": "execute_result",
          "data": {
            "text/plain": [
              "'usairway great job today team challeng weather delay flight 1925 charlott travel friendlyteam'"
            ],
            "application/vnd.google.colaboratory.intrinsic+json": {
              "type": "string"
            }
          },
          "metadata": {},
          "execution_count": 36
        }
      ]
    },
    {
      "cell_type": "code",
      "metadata": {
        "id": "a5Skjq6DJUtQ",
        "colab": {
          "base_uri": "https://localhost:8080/"
        },
        "outputId": "fe88e3fe-4dd2-40bf-d323-4052062f0aea"
      },
      "source": [
        "# download pretrained GloVe word embeddings\n",
        "! wget http://nlp.stanford.edu/data/glove.6B.zip"
      ],
      "execution_count": null,
      "outputs": [
        {
          "output_type": "stream",
          "name": "stdout",
          "text": [
            "--2022-06-09 18:28:56--  http://nlp.stanford.edu/data/glove.6B.zip\n",
            "Resolving nlp.stanford.edu (nlp.stanford.edu)... 171.64.67.140\n",
            "Connecting to nlp.stanford.edu (nlp.stanford.edu)|171.64.67.140|:80... connected.\n",
            "HTTP request sent, awaiting response... 302 Found\n",
            "Location: https://nlp.stanford.edu/data/glove.6B.zip [following]\n",
            "--2022-06-09 18:28:57--  https://nlp.stanford.edu/data/glove.6B.zip\n",
            "Connecting to nlp.stanford.edu (nlp.stanford.edu)|171.64.67.140|:443... connected.\n",
            "HTTP request sent, awaiting response... 301 Moved Permanently\n",
            "Location: http://downloads.cs.stanford.edu/nlp/data/glove.6B.zip [following]\n",
            "--2022-06-09 18:28:57--  http://downloads.cs.stanford.edu/nlp/data/glove.6B.zip\n",
            "Resolving downloads.cs.stanford.edu (downloads.cs.stanford.edu)... 171.64.64.22\n",
            "Connecting to downloads.cs.stanford.edu (downloads.cs.stanford.edu)|171.64.64.22|:80... connected.\n",
            "HTTP request sent, awaiting response... 200 OK\n",
            "Length: 862182613 (822M) [application/zip]\n",
            "Saving to: ‘glove.6B.zip’\n",
            "\n",
            "glove.6B.zip        100%[===================>] 822.24M  5.09MB/s    in 2m 40s  \n",
            "\n",
            "2022-06-09 18:31:37 (5.13 MB/s) - ‘glove.6B.zip’ saved [862182613/862182613]\n",
            "\n"
          ]
        }
      ]
    },
    {
      "cell_type": "code",
      "metadata": {
        "id": "K_GXHzwDJq-2",
        "colab": {
          "base_uri": "https://localhost:8080/"
        },
        "outputId": "afa7a4fb-0b3b-4353-bda7-2c775c89985a"
      },
      "source": [
        "! unzip glove*.zip"
      ],
      "execution_count": null,
      "outputs": [
        {
          "output_type": "stream",
          "name": "stdout",
          "text": [
            "Archive:  glove.6B.zip\n",
            "  inflating: glove.6B.50d.txt        \n",
            "  inflating: glove.6B.100d.txt       \n",
            "  inflating: glove.6B.200d.txt       \n",
            "  inflating: glove.6B.300d.txt       \n"
          ]
        }
      ]
    },
    {
      "cell_type": "code",
      "metadata": {
        "id": "TsXIa7CBKsWQ"
      },
      "source": [
        "# Extract word vectors\n",
        "word_embeddings = {}\n",
        "f = open('glove.6B.100d.txt', encoding='utf-8')\n",
        "for line in f:\n",
        "    values = line.split()\n",
        "    word = values[0]\n",
        "    coefs = np.asarray(values[1:], dtype='float32')\n",
        "    word_embeddings[word] = coefs\n",
        "f.close()"
      ],
      "execution_count": null,
      "outputs": []
    },
    {
      "cell_type": "code",
      "metadata": {
        "id": "Y61Y451u4TN_"
      },
      "source": [
        "#word_embeddings"
      ],
      "execution_count": null,
      "outputs": []
    },
    {
      "cell_type": "code",
      "metadata": {
        "id": "N3VtdSPyKxUZ"
      },
      "source": [
        "sentence_vectors = []\n",
        "for i in documents:\n",
        "  if len(i) != 0:\n",
        "    v = sum([word_embeddings.get(w, np.zeros((100,))) for w in i.split()])/(len(i.split())+0.001) #sentence embedding through element-wise averaging of the distributional vectors representing the words in the sentences.\n",
        "  else:\n",
        "    v = np.zeros((100,))\n",
        "  sentence_vectors.append(v)"
      ],
      "execution_count": null,
      "outputs": []
    },
    {
      "cell_type": "code",
      "metadata": {
        "id": "iTvTJY0RqFkE"
      },
      "source": [
        "#sentence_vectors"
      ],
      "execution_count": null,
      "outputs": []
    },
    {
      "cell_type": "markdown",
      "metadata": {
        "id": "1bh9L2pqL3gp"
      },
      "source": [
        "The next step is to find similarities among the sentences. We will use cosine similarity to find similarity between a pair of sentences. Let's create an empty similarity matrix for this task and populate it with cosine similarities of the sentences."
      ]
    },
    {
      "cell_type": "code",
      "metadata": {
        "id": "mm_fNZpOLxbM"
      },
      "source": [
        "# similarity matrix\n",
        "sim_mat = np.zeros([len(features1), len(features1)])"
      ],
      "execution_count": null,
      "outputs": []
    },
    {
      "cell_type": "code",
      "source": [
        "#documents"
      ],
      "metadata": {
        "id": "N1W8-LsBY8xa"
      },
      "execution_count": null,
      "outputs": []
    },
    {
      "cell_type": "code",
      "metadata": {
        "id": "oVeHkvf0MO1j"
      },
      "source": [
        "from sklearn.metrics.pairwise import cosine_similarity"
      ],
      "execution_count": null,
      "outputs": []
    },
    {
      "cell_type": "code",
      "metadata": {
        "id": "xTAAe-q3L4xM"
      },
      "source": [
        "for i in range(len(features1)):\n",
        "  for j in range(len(features1)):\n",
        "    if i != j:\n",
        "      sim_mat[i][j] = cosine_similarity(sentence_vectors[i].reshape(1,100), sentence_vectors[j].reshape(1,100))[0,0]\n",
        "      ## calculate cosine similarity between sentences "
      ],
      "execution_count": null,
      "outputs": []
    },
    {
      "cell_type": "code",
      "metadata": {
        "colab": {
          "base_uri": "https://localhost:8080/"
        },
        "id": "RIjNL4hLoBgI",
        "outputId": "c7807713-8ebf-4aad-c636-d16c3db3a7ab"
      },
      "source": [
        "sim_mat[80][60]   ## example similarity between sentence500 and sentence800"
      ],
      "execution_count": null,
      "outputs": [
        {
          "output_type": "execute_result",
          "data": {
            "text/plain": [
              "0.7601904915997937"
            ]
          },
          "metadata": {},
          "execution_count": 22
        }
      ]
    },
    {
      "cell_type": "code",
      "metadata": {
        "colab": {
          "base_uri": "https://localhost:8080/"
        },
        "id": "qtrWb8YrpLrV",
        "outputId": "3be14a8b-5cf2-4692-d0dd-ae3c9bcc9b04"
      },
      "source": [
        "sim_mat[9][1]"
      ],
      "execution_count": null,
      "outputs": [
        {
          "output_type": "execute_result",
          "data": {
            "text/plain": [
              "-0.12421220875901673"
            ]
          },
          "metadata": {},
          "execution_count": 27
        }
      ]
    },
    {
      "cell_type": "code",
      "metadata": {
        "id": "q_yZ4dJSq51s"
      },
      "source": [
        "#sentence_vectors[20] #range from 0 to number of tweets "
      ],
      "execution_count": null,
      "outputs": []
    },
    {
      "cell_type": "code",
      "metadata": {
        "id": "CAQUnNRWL_tA"
      },
      "source": [
        "import networkx as nx\n",
        "\n",
        "nx_graph = nx.from_numpy_array(sim_mat)\n",
        "scores = nx.pagerank(nx_graph)"
      ],
      "execution_count": null,
      "outputs": []
    },
    {
      "cell_type": "code",
      "source": [
        "#scores"
      ],
      "metadata": {
        "id": "qkBTrpkvpZHh"
      },
      "execution_count": null,
      "outputs": []
    },
    {
      "cell_type": "code",
      "metadata": {
        "id": "aQCcvT3yO5Xj",
        "colab": {
          "base_uri": "https://localhost:8080/"
        },
        "outputId": "6cbd924f-9c27-46a5-a36d-cf0f0a9bea98"
      },
      "source": [
        "ranked_sentences = sorted(((scores[i],s) for i,s in enumerate(features1)), reverse=True)\n",
        "ranked_sentences"
      ],
      "execution_count": null,
      "outputs": [
        {
          "output_type": "execute_result",
          "data": {
            "text/plain": [
              "[(0.004409146772688549,\n",
              "  '@USAirways Thanks to the friendly US Airways staff that helped me get booked on various flights to get home today.  Almost there!'),\n",
              " (0.004377485332900425,\n",
              "  '@USAirways thanks for getting me rescheduled on a direct flight to NOLA tonight in 10 minutes--and hopefully an hour earlier getting there!'),\n",
              " (0.004367471763004481,\n",
              "  '@USAirways Thank you!!! On our way to get her bag now - thanks to having that number 😊'),\n",
              " (0.0043664086078943915,\n",
              "  '@USAirways Stars aligned. Connecting flight was delayed into CLT. Made it! Thanks, glad to know someone is listening. Time for 80° in MoBay!'),\n",
              " (0.004365668798605121, \"@USAirways Thank you. I'll do that next time!\"),\n",
              " (0.004362379464142843,\n",
              "  '@USAirways @AmericanAir shout out to Diane at EYW for helping get us home today instead of tomorrow (even if a little Late Flight!)'),\n",
              " (0.004354187374241782,\n",
              "  '@USAirways yes I did thank you! They did a great job turning the flight in jan !'),\n",
              " (0.004343603039349448,\n",
              "  \"@USAirways I'm enjoying my flights so far! You're doing a great job. Today's been tough, so thanks for making my flights comfortable.\"),\n",
              " (0.004339867025039311,\n",
              "  '@USAirways knows customer service!! Thank you for starting our 2 week vacay on an amazing note! Thank you sarita!!!'),\n",
              " (0.004335328827097435,\n",
              "  '@USAirways we called and were able to get rescheduled. Thank you for the quick responses today!!'),\n",
              " (0.0043270774952200355,\n",
              "  '@USAirways connection made. Thanks again this week. #daddyshome'),\n",
              " (0.004323577621023083,\n",
              "  '@USAirways - thanks, I hope so. Maybe you can put in a good word for me? ;-)'),\n",
              " (0.004316012969583457,\n",
              "  '@USAirways thanks to Betty working gate at ILM and lovely gate agents here in CLT helping me get home 2 Phx tonight instead of tomorrow'),\n",
              " (0.004309632337712576,\n",
              "  '@USAirways @AmericanAir Thank you for a couple of easy, hassle free flights today, professional and friendly staff made everything easy!'),\n",
              " (0.004307455058668098,\n",
              "  '@USAirways thanks for getting us on ur plane. Awesome flight attendant who is making us smile after difficult travel. #customerservice'),\n",
              " (0.004297577282152924,\n",
              "  '@USAirways hey guys just want to say I had the best flight ever! Thank you so much. I fell asleep and actually had a wet dream.'),\n",
              " (0.004294355404835571,\n",
              "  '@USAirways  thank you! Glad to be heading home! Great people at your call center!'),\n",
              " (0.004294254832339713,\n",
              "  \"@USAirways @AmericanAir major issues getting out of Boston, but your crew has been exceptional. Let's see how things roll out in Philly.\"),\n",
              " (0.004293227242653529,\n",
              "  '@USAirways a big thanks to the gate agent flt5127..keeping us informed of the delay#greatcustomerservice'),\n",
              " (0.0042922341641759695,\n",
              "  '@USAirways despite mechanical issues and many delays followed by a Cancelled Flightlation, still getting to Vegas thanks to great gate agents!'),\n",
              " (0.00428014874687283,\n",
              "  '@USAirways Fabulous - thank you so much! Looking forward to taking to the skies with you! :)'),\n",
              " (0.004279113122005324,\n",
              "  '@USAirways thanks for helping with #reFlight Booking Problems #Cancelled Flightedflight Yvonne Anthony.  You will help us get to Tel Aviv on time.  #HappyFriday'),\n",
              " (0.004278413415050432,\n",
              "  '@USAirways Sending thanks to employee Freddie in PHL Admiral Club A East for allowing me to give a day pass to my sibling stuck there today.'),\n",
              " (0.004275174348509643, '@USAirways I made it! Thanks for the help!'),\n",
              " (0.004273862260647833, '@USAirways Waiting on my flight right now, thanks!!'),\n",
              " (0.0042734080650711,\n",
              "  '@USAirways Frustrating days!No flights home, changed airlines. Thank you PHL USAirway employees &amp; @united for help getting me back to IAH.'),\n",
              " (0.0042728136475699355,\n",
              "  '@USAirways Thanks. No DC yet, I see. I will keep that link and check back. Appreciate it!'),\n",
              " (0.004272327607143393,\n",
              "  '@USAirways surprisingly quick response time by you and them. Thanks!'),\n",
              " (0.004269809127015349,\n",
              "  \"@USAirways Can't wait for the trip. Thanks for getting me there!\"),\n",
              " (0.004266360555032027,\n",
              "  '@USAirways Nick on flight 742 was awesome. Please reward him in some way!!! He has kept us smiling on a bad day of travel. #customerservice'),\n",
              " (0.004264617939175423,\n",
              "  '@USairways Since I am a loyal USAir customer I am sure that they will make this up to me-right now I want to get home &amp; back to work.'),\n",
              " (0.004263543790017633,\n",
              "  '@USAirways job well done from your Philly employee running check,in today. (Tabitha?) helped us in an emergency &amp; vacation saved!!!'),\n",
              " (0.004263543697050532,\n",
              "  '@USAirways I will. Thank you for at least tweeting me back:) better than most. 👌'),\n",
              " (0.0042586048680259385,\n",
              "  \"@USAirways  glad to be home and that your great people got me home safely. Sad for others who didn't get back bc of scheduling problems.\"),\n",
              " (0.0042431472325081985,\n",
              "  '@USAirways Just spoke with a representative. Moved my flight earlier. Thank you so much for the follow up.'),\n",
              " (0.00424151392269149,\n",
              "  '@USAirways I finally spoke to a person. Despite the mind boggling wait time, the rep was very pleasant and very helpful. Kudos to her.'),\n",
              " (0.0042403986850412054, '@USAirways getting sorted, thanks'),\n",
              " (0.00423938091313183,\n",
              "  '@USAirways provided the best service for me today! Thank you so much :)'),\n",
              " (0.0042377053059284055,\n",
              "  \"@USAirways nice touch with using my first name.  Very intimate.  I'll be filing a claim soon to be reimbursed. Have a us airways day!\"),\n",
              " (0.004236705207654753,\n",
              "  '@USAirways #success made flight , please thank the crew of 556 great time recovery'),\n",
              " (0.004234236977039013,\n",
              "  '@USAirways thanks for giving away my seat. Another fine job! http://t.co/r7ibqr4CYd'),\n",
              " (0.0042330309791971405,\n",
              "  '@USAirways on time today and from PHL! Nice work! #ThereIsAFirstForEverything'),\n",
              " (0.004233016962745643,\n",
              "  '@USAirways thanks for seating me next to 2 hot athletes. This flight is significantly better now!'),\n",
              " (0.004229938492748884,\n",
              "  \"@USAirways we haven't departed yet so let's not get too high hopes.  But everything has been on schedule so far\"),\n",
              " (0.0042294201195147325,\n",
              "  '@USAirways 4 great flights with no delays! Thank you!'),\n",
              " (0.004228610426596398,\n",
              "  \"@USAirways on a happy note our 719 crew is wonderful. Can't say enough great things about our pilot. He's doing all he can for us.\"),\n",
              " (0.0042284403684701415,\n",
              "  \"@USAirways couldn't be more thankful to your #orf and #dca crews on the ground and in the air today for help with a sick kid and a lost bag!\"),\n",
              " (0.004226130966058216,\n",
              "  '@USAirways Thank you!!! This whole crew has rocked through bad weather and diversion. Pilot keeping us well informed. #customerservice'),\n",
              " (0.004218015688009116,\n",
              "  '@USAirways thank you for refunding my bag fee.  I look forward to its return today I hope.'),\n",
              " (0.004208401976463113,\n",
              "  '@USAirways Another great flight #FunFlightAttendants. Thanks for showing my dad wonderful customer service. #flt635 #LAX #PHX #SundayFunday'),\n",
              " (0.004204962304769728,\n",
              "  '@USAirways Shavon at customer service desk in Charlotte was fantastic! So helpful and smiling evn after what sounds like long day.Reward her'),\n",
              " (0.004202447013662853,\n",
              "  '@USAirways no problem.  Things worked out at airport.   Thanks!'),\n",
              " (0.0042005954102920535,\n",
              "  '@USAirways thanks very much! I got thru on the phone &amp; everything is fine. Just love the website &amp; app ! Thanks for working on it!'),\n",
              " (0.00419426066621533,\n",
              "  \"BY THE GRACE OF GOD, I MADE IT! “@USAirways: @__RWG__ We don't have those powers in here. We hope you can make that flight.”\"),\n",
              " (0.004176690013958123,\n",
              "  '@USAirways thank you. We filled out a claim and hope to have the bags tomorrow.'),\n",
              " (0.004175115474387032,\n",
              "  '@USAirways i hope i get the opportunity to join the team with this job opening!'),\n",
              " (0.004174229364279828,\n",
              "  '@USAirways your pple did a great job w the madness however some of your systems need help. I appreciate the hard work &amp; the push to b better'),\n",
              " (0.0041726407197311514,\n",
              "  '@USAirways thanks for your help! I left a message for DCA lost and found. Fingers crossed we find it!'),\n",
              " (0.004172596237407259,\n",
              "  '@USAirways Thank you so much its been a very stressful day'),\n",
              " (0.004171607184478332,\n",
              "  '@USAirways Thanks guys! Got hold of someone. Really awesome service I appreciate it :)'),\n",
              " (0.004165551051582505,\n",
              "  '@USAirways an already pleasant flight from London to Charlotte (US733) was made fantastic by an amazing attendant. Thank you so much Robert!'),\n",
              " (0.004165295916276909,\n",
              "  '@USAirways @AmericanAir I am so going to miss US Airways.  You always provided great service and NEVER LET ME DOWN.'),\n",
              " (0.00416357437121636,\n",
              "  '@USAirways thank you finally got our bag. Customer services reps were wonderful.'),\n",
              " (0.004162149772772451,\n",
              "  \"@USAirways it's not often that an airline is so easy to work with. I needed to change my flight time and the attendants at MKE made my day!\"),\n",
              " (0.004158485110017893,\n",
              "  \"@USAirways still not in the air for deicing of plane. I'll miss connect but customer service was helpful.I'm hoping to catch the next flight\"),\n",
              " (0.0041570087102757326,\n",
              "  \"@USAirways I'll check it out when I get to the airport. Thanks.\"),\n",
              " (0.004152567445353585,\n",
              "  '@USAirways Thank you for your help today.  I have been a loyal US airways customer and i appreciate your responding to my tweets.'),\n",
              " (0.004151817733181781, '@USAirways thanks so much!'),\n",
              " (0.004151817733181781, '@USAirways thank you very much.'),\n",
              " (0.004145852361088009,\n",
              "  '@USAirways thanks for the reply. On a good note, the pilot nailed the landing. Seriously. Kudos.'),\n",
              " (0.004143919252463726,\n",
              "  '@USAirways we are boarding now but have yet to depart.  Thanks for the response.'),\n",
              " (0.00414083085341618,\n",
              "  \"@USAirways We're having 2 grandbabies in 2 weeks -- will travel to DC for the births. Thank you for the reasonable fares!  See you Saturday!\"),\n",
              " (0.004139291825417511,\n",
              "  '@USAirways customer service at its best! Rachel S.  took great care of us at the PHX airport. http://t.co/HG7vEqhGHy'),\n",
              " (0.0041377624518386105,\n",
              "  '@USAirways Well I did miss it. But gate agents had rebooked boarding pass waiting when I landed. Time for lunch &amp; a beverage. Easy cheesy'),\n",
              " (0.004133860001659147,\n",
              "  \"@USAirways We're back at a gate. Opposite of wheels up. Im sure we'll get thete eventually. So thanks.\"),\n",
              " (0.004133001685938895,\n",
              "  '@USAirways thanks for the reply, hoping everything is cleared up in Charlotte by Monday'),\n",
              " (0.004132706380051453,\n",
              "  \"@USAirways thanks for slowing the inbound plane down so that we didn't need to worry about 4438 EYW being Late Flight. Great holz ahead. Cheers! 😀\"),\n",
              " (0.004127866379051811,\n",
              "  '@USAirways - so far so good this week. SAV to CLT boarded BEFORE the departure time (first time in 4 weeks). Perhaps an on time departure?!'),\n",
              " (0.004119545053466609,\n",
              "  '@USAirways Thanks. It would be better from the gate agent at C14 in Charlotte boarding flight 1791.'),\n",
              " (0.004116535123116133,\n",
              "  '@USAirways   Just talked to reservation. Must congratulation to them. Very friendly.  Good for usair. The ONLY airline we fly.'),\n",
              " (0.004111283107677148,\n",
              "  '@USAirways ok thank you we were told ground delay due to snow.'),\n",
              " (0.004111150596976722,\n",
              "  '@USAirways thanks to the gate agent in State College, PA that was able to get me on an earlier flight AND figure out an earlier connection!'),\n",
              " (0.004107320404744719,\n",
              "  '@USAirways Best GAgent in a long time - Danny B. for US628 DFW-CLT. Appreciated how up to date he kept us during irrops. Super professional!'),\n",
              " (0.00410716987957476, '@USAirways \\nGood news, we got fixed.'),\n",
              " (0.004102163366922653,\n",
              "  '@USAirways sitting on a plane in Philadelphia for over 20 minutes waiting just to get off the plane. Great service!'),\n",
              " (0.004101893537720021,\n",
              "  \"@USAirways thanks Travis at PHL A East checkin for knowing baggage policies. Skis &amp; boots count as 1. Teach your mgr who didn't know\"),\n",
              " (0.004098083620137759,\n",
              "  '@USAirways made it! Just! Huge relief - thanks for your help!'),\n",
              " (0.004095312257740126,\n",
              "  \"@USAirways Shout out to the red-headed gate agent for flt 3389 from DCA to CHS at 7:10 tonight. Didn't get her name but she was great!\"),\n",
              " (0.004090937480374981,\n",
              "  '@USAirways looks like our bag has been rescued. Thanks!'),\n",
              " (0.0040822602172288615,\n",
              "  '@USAirways  big thank you to your ticketing agent Ute V at Dulles-Washington for OUTSTANDING guest service to get me rebooked'),\n",
              " (0.004080838917935395, \"@USAirways yes, it's a domestic flight. Thank you!\"),\n",
              " (0.004079055327148727, \"@USAirways on Sunday! Can't wait! See you then\"),\n",
              " (0.0040758638296969395,\n",
              "  '@USAirways I wasnt  flying your airline tonight, however a friend was and I was present for her help. I flying United and they could learn.'),\n",
              " (0.004075451231102706,\n",
              "  '@USAirways I totally understand the weather. Just frustrated. Thanks!'),\n",
              " (0.004073530914991949,\n",
              "  \"@USAirways thanks!  Can you help remind the agents it's ok?  Ps. Heard rumors of a streaming wifi TV/movie service you might be installing\"),\n",
              " (0.004073360773425107,\n",
              "  '@USAirways - Huge props to Parizad at checkin in Sacramento for her help on Friday to get 3 of us home when other airlines were delayed'),\n",
              " (0.004059885651845114,\n",
              "  '@USAirways thanks to the whole team for an on-time flight despite inclement weather http://t.co/eQePkkPSXM'),\n",
              " (0.004058247603889435,\n",
              "  \"@USAirways Eyyyy! Cancelled Flightlations, Flight Booking Problemss, reFlight Booking Problemss, but y'all got me on the same flight out tonight (not tomorrow) &amp; the FC upgrade. Thx!\"),\n",
              " (0.004057259593797121,\n",
              "  '@USAirways 1917. Thanks for the 5 hour layover in LA too👍 Icing on the cake. At least your staff was courteous and helpful.. Not #unreal'),\n",
              " (0.004054434421074254,\n",
              "  '@USAirways They were breathing very heavily. but were super helpful. Thank you.'),\n",
              " (0.004052829698159856, '@USAirways  thanks I hope I get to my destination'),\n",
              " (0.00404874777294598,\n",
              "  '@USAirways No Problem - he was the only person in the airport who would help :)'),\n",
              " (0.004030410682743757,\n",
              "  '@usairways great crew for flight 504 PHX to YVR tonight! Friendly, efficient. Awesome job.'),\n",
              " (0.004030229449916138,\n",
              "  '@USAirways great job today from your team with a challenging weather delay on flight 1925 out of Charlotte. #travel #friendlyteam'),\n",
              " (0.004028172667139367,\n",
              "  '@USAirways after missing my flight and reFlight Booking Problems 2x, I just walked onto another flight and my phone was still on the seat!!'),\n",
              " (0.004028066309789646,\n",
              "  '@USAirways new F/As from DFW to CLT this morning did a great job. Well Done!'),\n",
              " (0.0040249711695993584,\n",
              "  '@USAirways  that would be lovely! You have great people working in your organization.'),\n",
              " (0.004022433484974378,\n",
              "  '@USAirways over the phone. I called the 6170 number and she picked up almost immediately.'),\n",
              " (0.004017946061688608,\n",
              "  '@USAirways finally rectified my flight situation! Thanks again'),\n",
              " (0.004014029903918848,\n",
              "  '@USAirways You all work hard at making sure things flow smoothly. Keeping positive.'),\n",
              " (0.004013592058267982,\n",
              "  \"@USAirways thank you! It's # 1875 from BWI, keep seeing different stats, from delayed to awaiting take off to delayed...\"),\n",
              " (0.004010881479746533,\n",
              "  \"@USAirways big thanks to Yvonne Anthony from the Chairman's desk.  Top tier customer service today.  #outstanding #service &amp; #support.\"),\n",
              " (0.0040039591351257444,\n",
              "  '@USAirways Your CLT baggage crew deserves a #kudos. I had to run to make my connection. And my bags still made it! #CustomerService'),\n",
              " (0.004002210273217501,\n",
              "  '@USAirways on the DL, send Ethan some new pants and some \"white revive\" laundry tabs. He\\'s a great guy, good crew, he\\'s just, err, single.'),\n",
              " (0.003999723520991367,\n",
              "  '@USAirways we were moved to a delta direct. Thank you for the accommodations!'),\n",
              " (0.003998606722741888, '@USAirways Got it, thanks!'),\n",
              " (0.003998117513688461,\n",
              "  \"@USAirways First class service on US 769 PHL-MCO today from the flight attendant in F. I didn't catch her name but she was top notch!\"),\n",
              " (0.0039977787401831635, '@USAirways Yes thank you. Appreciate u checking...'),\n",
              " (0.003996689107556573,\n",
              "  \"@USAirways good work by flight 1798 crew.  #Chairman's recognition even in coach.  Too many #missedupgrades Late Flightly.  What's up with this?\"),\n",
              " (0.0039940640143283105,\n",
              "  '@USAirways i got through and am able to switch my flight with no charge. Thank you'),\n",
              " (0.003991841632763584,\n",
              "  '@USAirways worked w/ Tiffany H at cust service desk in Charlotte and she was helpful and patient. Still stuck, but she was great.'),\n",
              " (0.003988983153361285,\n",
              "  '@USAirways thanks.  If you have another method also that would be nice.  Appears to be a design flaw'),\n",
              " (0.003987998088209392,\n",
              "  '@USAirways YOU ARE AMAZING!!! YOU ARE THE BEST!!! FOLLOW ME PLEASE AND I FOLLOW YOU BACK;)🙏🙏🙏✌️😉)'),\n",
              " (0.003987338943171067,\n",
              "  '@USAirways thank you! I will be calling you! #CheapOairChat'),\n",
              " (0.0039802848698597924,\n",
              "  '@USAirways thank you! You have always been so good to me. I will follow up.'),\n",
              " (0.003976766318558285, '@USAirways thank you for fixing my 5 hour delay.'),\n",
              " (0.003974051517948385, '@USAirways see you on board tomorrow'),\n",
              " (0.003964684733214911,\n",
              "  '@USAirways @AmericanAir First Class all the way!!💺✈️ Headed to @portlandjetport http://t.co/kDMq0jps02'),\n",
              " (0.003963449542988349,\n",
              "  '@USAirways thanks! Made it safely! http://t.co/KCqeBEej7S'),\n",
              " (0.003958449974234369,\n",
              "  '@USAirways Dude named Shaquille at the desk in Charlotte was incredibly professional and helpful vs. some crazy angry people tonight'),\n",
              " (0.003957885654167159,\n",
              "  '@USAirways Reservation agent on the phone did a great job.'),\n",
              " (0.003943438718604904,\n",
              "  '@USAirways I know that, thanks. Evaluate further ;-) ... -Chairman'),\n",
              " (0.003915571353361078,\n",
              "  '@USAirways shout out to the pilots and FC attendant(Eliz) of US 673. Super strong crosswinds during landing. Eliz did a super job throughout'),\n",
              " (0.003915156933345356, \"@USAirways Oh well. I'll get to Cancun eventually.\"),\n",
              " (0.003912527284838724,\n",
              "  '@USAirways Thank you, @USAirways!  Your fare to from DTW to DCA was much lower than @Delta and @SouthwestAir!  Thank you! You won me over!'),\n",
              " (0.003910495683692328, '@USAirways Thank you, busy times.'),\n",
              " (0.003908948565796022,\n",
              "  '@USAirways please give Tara G a pat on the back and praise.  She was very very helpful.  She is at PHL member lounge'),\n",
              " (0.003907580133885384,\n",
              "  '@USAirways your ticket agents at gate 4 in Providence airport rocked tonight, especially Kristy, sorry if that is not the correct spelling.'),\n",
              " (0.003907230447254574, '@USAirways IT HAS BEEN FOUND THANK YOU'),\n",
              " (0.0039028584069531382,\n",
              "  \"@USAirways ok thank you! Very helpful! This is why you're my favorite airline!\"),\n",
              " (0.003896073304068255,\n",
              "  \"@USAirways thx 4 replying. After trying 2 get thru many times, &amp; v-mail or people hanging up on, us we talked 2 tech...cont'd\"),\n",
              " (0.003888715304381272,\n",
              "  '@usairways #crew keeping safety top of mind in CLT. http://t.co/a0YoSJHZMc'),\n",
              " (0.0038860823756071607,\n",
              "  \"@USAirways but don't worry! They found a hotel, it's only 45min away. I got there around 11:30pm, no problem.\"),\n",
              " (0.0038847937263339254, '@USAirways great, thank you!'),\n",
              " (0.00388461477716683,\n",
              "  '@USAirways with the weather mess in the South, I missed my connection in CLT. Impressed though with the Cust Serv phone reps today.'),\n",
              " (0.003881749216626671,\n",
              "  '@USAirways Thank You for your empathy there is more to this story than just the luggage but thank you for reaching out'),\n",
              " (0.0038719593984404372, '@USAirways we will...sunday! Just a few days away'),\n",
              " (0.0038714454746879247,\n",
              "  '@USAirways - Check-in staff at PHX are awesome! Great traffic control for general boarding.'),\n",
              " (0.0038695996142598084,\n",
              "  \"@USAirways look out for flying rocks this time! It's a bird it's a plane! Nah never mind it's just a rock...\"),\n",
              " (0.0038692197396962757, '@USAirways okay, great. Thank you!'),\n",
              " (0.003867235323841197,\n",
              "  '@usairways Thanks to Kevin and team at F38ish at PHL for some great service recovery tonight. Appreciate it.'),\n",
              " (0.0038658197460561304,\n",
              "  '@USAirways haha no worries you guys are the best!  +1 for spelling my name correctly'),\n",
              " (0.003865627450631185,\n",
              "  \"@USAirways @landonschott he's fine, he really likes picking his own seat....\"),\n",
              " (0.0038594360157609645,\n",
              "  'Great management of @USAirways twitter account. Thank you.'),\n",
              " (0.0038370501762111263,\n",
              "  \"@usairways 4 flights in 48hrs &amp; I've had the same flight attendant for 3 of those flights. Freaky coincidence! Plus side she's great. :)\"),\n",
              " (0.003826587556357462,\n",
              "  '@USAirways owes Tammy from the Winston-Salem call center for keeping me as a customer!'),\n",
              " (0.0038262772471771653,\n",
              "  \"@USAirways thanks! It's hectic for everyone but their actions don't represent the company well IMO\"),\n",
              " (0.0038227674286057728,\n",
              "  '@USAirways captain on flight 1712 from PHX-PHL at 3:55 tonight was hilarious. \"Greetings from the pointy end of the airplane\" haha thanks!'),\n",
              " (0.003799397690074883,\n",
              "  '@USAirways the entire flight crew on flight 738 from BOS to PHL is doing a wonderful job and making this experience not totally suck. 😊'),\n",
              " (0.0037960795245555673,\n",
              "  '@USAirways YOU ARE THE BEST AIRWAYS!!!!!!!!!! FOLLOW ME BACK, PLEASE 🙏🙏🙏🙏🙏🙏🙏🙏🙏🙏🙏😢😢😢😢😢😢😢😢🙏🙏🙏🙏🙏🙏🙏🙏🙏🙏🙏🙏🙏🙏🙏🙏🙏🙏🙏🙏🙏'),\n",
              " (0.003780235399708333,\n",
              "  '@USAirways no worries, your flight attendant took care of it.'),\n",
              " (0.0037742763725023354, '@USAirways - done :)'),\n",
              " (0.003756942875502843,\n",
              "  \"@USAirways woohoo! He still has 1 more flight but so happy to hear they're in the air, just about cried! (Must be the preggo hormones!) thx!\"),\n",
              " (0.0037483659074074712,\n",
              "  '@USAirways YOU ARE THE BEST!!! YOU ARE AMAZING!!! FOLLOW ME PLEASE;)🙏🙏🙏'),\n",
              " (0.0037483659074074712,\n",
              "  '@USAirways YOU ARE THE BEST!!! FOLLOW ME PLEASE;)🙏🙏🙏✌️✌️✌️🙏🙏🙏'),\n",
              " (0.0037483659074074712,\n",
              "  '@USAirways YOU ARE THE BEST!!! FOLLOW ME PLEASE;)🙏🙏🙏✌️✌️✌️🙏🙏🙏'),\n",
              " (0.0037483659074074712,\n",
              "  '@USAirways YOU ARE THE BEST!!! FOLLOW ME PLEASE;)🙏🙏🙏✌️✌️✌️🙏🙏🙏'),\n",
              " (0.0037483659074074712,\n",
              "  '@USAirways YOU ARE AMAZING!!! YOU ARE THE BEST!!! FOLLOW ME PLEASE 🙏🙏🙏😢😢😢🙏🙏🙏'),\n",
              " (0.003739213733796192, '@USAirways right on. Up. Up &amp; away ✈️🌞'),\n",
              " (0.0037351153634200326,\n",
              "  '@USAirways Thx to gate agt John Pascucci for finding us a flight from CLT to PVD after our original one was Cancelled Flightled http://t.co/YiwLhQhZgp'),\n",
              " (0.0037270793999824234,\n",
              "  '@USAirways Kudos to Robin at @PHXSkyHarbor Lost/Found for reuniting me w/ my iPad. She was delightful to work with!'),\n",
              " (0.003716628759968094,\n",
              "  '@USAirways thanks for reaching out to me.  My Gold Div no. 2k424j0. My Flights were changed under Confirmation # DNX58V.'),\n",
              " (0.003715896407662298,\n",
              "  '@USAirways it was customer service like I have never seen before!  Kudos to your organization.'),\n",
              " (0.0037122839886634786,\n",
              "  '@USAirways KUDOS to your phone support and Charlotte gate staff!'),\n",
              " (0.003703232488816782, '@USAirways flying high thanks!'),\n",
              " (0.0036939688369870853,\n",
              "  \"@USAirways Excited that I'll be flying from Syracuse to interview in Dallas on Friday for the FA position- this is a goal &amp; dream of mine!\"),\n",
              " (0.003691893044786557,\n",
              "  '@USAirways DOMINICK L. at La Guardia airport NYC gives the absolute best customer service! Thanku! Checking in made easy!'),\n",
              " (0.003680945490722157,\n",
              "  '@USAirways FA attendant on 4553 PHL to PWM tonight was fab!  An asset to your team.  From 1F. Have a great night team!'),\n",
              " (0.0036789966705142564,\n",
              "  '@USAirways THANK YOU for resolving the issue. On direct flight to sfo from @united'),\n",
              " (0.003676941644100977,\n",
              "  \"@USAirways yes and our flight attendant (who is wonderful btw) secured the tray table so it's not flailing about. http://t.co/JhXWMuTx4G\"),\n",
              " (0.0036429609631848285,\n",
              "  '@USAirways YOU ARE AMAZING!!! FOLLOW ME BACK, PLEASE!!!🙏🙏🙏🙏🙏🙏🙏🙏🙏🙏🙏🙏🙏🙏🙏🙏🙏🙏'),\n",
              " (0.0036388746768969927, '@USAirways landed safely everything worked out.'),\n",
              " (0.0036233076998113374,\n",
              "  '@USAirways Mellani B. and whole team in Columbia SC are absolute superstars. Incredibly helpful.'),\n",
              " (0.003616849881027501,\n",
              "  '@USAirways - Janet &amp; my DEN-PHL  flight Cancelled Flightled Saturday, USAIR rescheduled automatically &amp; notified us by email at no additional cost.'),\n",
              " (0.0036063489599161237,\n",
              "  \"@USAirways made it!!! Send Bloody Mary's to row 27!!!\"),\n",
              " (0.003595182402950361,\n",
              "  '@USAirways I miss you too. Work has taken me out of Philly. I’ve been on flight 1776 from BOS —&gt; PHL so many times I should have a res. seat'),\n",
              " (0.003593307730874841,\n",
              "  '@USAirways how about a drink voucher for the next flight?? #winkwink'),\n",
              " (0.0035924421800452907,\n",
              "  \"@USAirways I'm glad @Beamske retweeted otherwise you would have to ignore the numerous tweets I sent. You all are fucking amazing\"),\n",
              " (0.0035913527719218423,\n",
              "  '@USAirways Welcome to North Texas US Air / American Air employees. \\nHousing and Education are great opportunities in The GR8 State Of Texas'),\n",
              " (0.0035877135927711397,\n",
              "  '@USAirways your team member at DCA- Tamara R. is her name was awesome. You should have more employees like her!'),\n",
              " (0.003576706782424303, '@USAirways ok. Thank you'),\n",
              " (0.003576706782424303, '@USAirways ok thanks'),\n",
              " (0.003554241908100663,\n",
              "  '@USAirways please keep Emily at you gso airport ticketing on staff she is amazing'),\n",
              " (0.0035457136749521088,\n",
              "  '@USAirways Marsha M. at Myrtle Beach is the greatest! She deserves all the respect and praise there is! #ThankYouForEverything'),\n",
              " (0.003540252879826065,\n",
              "  '@USAirways flight 437 PHX&gt;ORD.  Lead FA Bill is the most professional FA I have seen in 9 years of flying USAir. I have no AB cards. :-('),\n",
              " (0.0035305687916679694, '@USAirways I love you guys!!!'),\n",
              " (0.003449422929465017, '@USAirways Thanks! Sent you DM re: baggage issues.'),\n",
              " (0.0034482763601995725, \"@USAirways that's why u guys are my #1 choice.\"),\n",
              " (0.0034426565847830663,\n",
              "  '@USAirways is alright with me. Please give Scott F at BDL a bonus for excellent customer service'),\n",
              " (0.0034406099907736834,\n",
              "  \"“@USAirways: @jdbwaffles We're excited to have you fly with us, JB! When will this be?” Spring Break !!!\"),\n",
              " (0.003435664766076132,\n",
              "  '@USAirways Ann Marie at LGA is the best ticket agent ever! #excellentcustomerservice'),\n",
              " (0.0034248048684596653, '@USAirways awesome! And yes, @UpInAirClaire is!'),\n",
              " (0.0034183022351796863,\n",
              "  '@USAirways YOU ARE THE BEST AIRWAYS!!! FOLLOW ME PLEASE;)🙏🙏🙏✌️✌️✌️🙏🙏🙏'),\n",
              " (0.0034183022351796863,\n",
              "  '@USAirways YOU ARE THE BEST AIRWAYS! Follow me please!!!!!🙏🙏🙏🙏🙏🙏🙏🙏🙏🙏🙏🙏🙏🙏🙏🙏🙏🙏🙏🙏🙏🙏🙏🙏🙏🙏🙏'),\n",
              " (0.0034171827723408496,\n",
              "  \"@USAirways #ShoutOut 2 Kristie(sp?) from Gate4 @ PVD today. She's a #RockStar, was a tremendous help in a tough situation. #PromoteThatGirl\"),\n",
              " (0.003410653303786001,\n",
              "  '@USAirways On re-accommodation number Lisa (Liza?) in Raleigh was very helpful'),\n",
              " (0.0033791633889439293,\n",
              "  '@USAirways @AmericanAir Can you bring guinea pigs in small pet carrier onboard your flights?'),\n",
              " (0.003376729906445086,\n",
              "  \"@USAirways awesome! Flight #676 out of philly on Tuesday. Party in row 15 if you're interested.\"),\n",
              " (0.003357431529808437, '@USAirways Thanks for the information!'),\n",
              " (0.0033370621439049947,\n",
              "  '“@USAirways: @hegshmeg O” thank you for that elaborate response'),\n",
              " (0.0033370621439049947, \"@USAirways that's where we are now. Thank you.\"),\n",
              " (0.0033370621439049947, '@USAirways thanks. 😒'),\n",
              " (0.0033370621439049947, '@USAirways thanks.'),\n",
              " (0.0033370621439049947, '@USAirways thanks!'),\n",
              " (0.0033370621439049947, '@USAirways thanks :)'),\n",
              " (0.0033370621439049947, '@USAirways thanks !!!'),\n",
              " (0.0033370621439049947, '@USAirways thanks'),\n",
              " (0.0033370621439049947, '@USAirways thanks'),\n",
              " (0.0033370621439049947, '@USAirways thanks'),\n",
              " (0.0033370621439049947, '@USAirways thank you!!!'),\n",
              " (0.0033370621439049947, '@USAirways thank you!!'),\n",
              " (0.0033370621439049947, '@USAirways thank you!'),\n",
              " (0.0033370621439049947, '@USAirways thank you'),\n",
              " (0.0033370621439049947, '@USAirways thank you'),\n",
              " (0.0033370621439049947, '@USAirways Thanks!'),\n",
              " (0.0033370621439049947,\n",
              "  '@USAirways Thank you. And thanks for being so accommodating.'),\n",
              " (0.0033370621439049947, '@USAirways Thank you.'),\n",
              " (0.0033370621439049947, '@USAirways Thank you!'),\n",
              " (0.0033370621439049947, '@USAirways Thank you'),\n",
              " (0.0033370621439049947, '.@USAirways thanks!'),\n",
              " (0.0033262624210719533,\n",
              "  '@USAirways Wow unbelievable how you treat your customers at Puerto Rico airport! 👍'),\n",
              " (0.0033181055581332193,\n",
              "  '@USAirways FYI your customer service rep Carol is an absolute delight. So pleasant to with with and rebooked me in lightning speed! Thanks!'),\n",
              " (0.0033103261478063823, '@USAirways Flight # 604. Thanks.'),\n",
              " (0.003273486554604227,\n",
              "  '@USAirways the plane crew has been as professional and courteous as the gate agents were flustered.'),\n",
              " (0.0031791903576806734, '@USAirways Haha - that will indeed be a great day!'),\n",
              " (0.0031688132104330064, '@USAirways thanks! http://t.co/pD7R1lL6Re'),\n",
              " (0.0031063398606407623,\n",
              "  \"@USAirways I just think it's weird to have mileage as 666\"),\n",
              " (0.0030829435423227955, '@USAirways Good morning.'),\n",
              " (0.0030736611154457694,\n",
              "  '@USAirways thank you for refunding me on my baggage ! really appreciate it'),\n",
              " (0.003018352209743007, '@USAirways ice cream up front! Solid'),\n",
              " (0.00300180071652824,\n",
              "  '@USAirways will do. Hoping for a voucher for a future flight #Optimistic'),\n",
              " (0.002997032613687285,\n",
              "  \"@USAirways thank you! I tried that and they said they didn't have it. Anywhere else to try?\"),\n",
              " (0.002994989485419276,\n",
              "  '@USAirways Thks US #1786 2/19 PHL to FLL. Overall 1st class has improved with more food now on PHL to FLL and most crews are super.'),\n",
              " (0.00295072218494858, '@USAirways 1899. Thanks'),\n",
              " (0.0029431827667423327, '@USAirways #tbt every day.'),\n",
              " (0.002901698572311537,\n",
              "  '@USAirways you can thank supervisor Jeanine and her coworkers for the excellent customer service they provided'),\n",
              " (0.0028845930023792613,\n",
              "  '@USAirways please thank Mellie at CAE, Tammy in baggage claim at CLT 4 #excellent customer service 2day, BUT I have a complaint.'),\n",
              " (0.002804621977853373,\n",
              "  '@USAirways Many thanks for your reply! http://t.co/6CGFv02gzb'),\n",
              " (0.002789214552350489, '@USAirways I made it- thx.'),\n",
              " (0.002759268976709416,\n",
              "  '@USAirways Painless and effortless flight from Indy to PHL... Our flight attendant, Tory, was fantastic. Give that lady a raise ASAP!'),\n",
              " (0.002622259003512749,\n",
              "  '@USAirways - love the changes in the lounge - cheese, veggies, olives in addition to the crackers and snack mix,'),\n",
              " (0.0026207289250590824, '@USAirways TYVM USAir, Happy Night@ &lt;3'),\n",
              " (0.002577287216283062,\n",
              "  '@USAirways — I had exceptional service on flight #403 from IND to PHX!!'),\n",
              " (0.002567634415941558, \"@USAirways HA!  You're fun.\"),\n",
              " (0.0025349101177286606, \"@USAirways Exicted to be flying with y'all soon !!\"),\n",
              " (0.0024631592211179745, '@USAirways Absolutely!! The staff was amazing!!'),\n",
              " (0.0023970467140720392,\n",
              "  '@USAirways she also appreciated having her very own hashtag! :) #lucycat'),\n",
              " (0.0023631660606855086,\n",
              "  '@USAirways @AmericanAir @SVLLINDIA provides you the best logistics experience for people all over India.\\n#Mumbai #Surat #NaviMumbai'),\n",
              " (0.002337625104027873, '@USAirways customer service at its finest'),\n",
              " (0.0023029761428369796,\n",
              "  '@USAirways experience exceptional service from Cherry at #DenverAirport.  #GreatService. #professionalism'),\n",
              " (0.002067865915918345, '@USAirways I appreciate your prompt response.'),\n",
              " (0.002055929930346709, '@USAirways Awesome USAir, TYSVM &lt;3'),\n",
              " (0.0020429662952611534,\n",
              "  \"@USAirways Melinda in reservations in greensboro nc is an absolute jewel thank her for me she's amazing!!!\"),\n",
              " (0.001515015403317365, '@USAirways 603 &amp; 2705 DFW to PSP thank you!'),\n",
              " (0.0013808451442906642, '@USAirways  Lilly M in SJU check in is fabulous!'),\n",
              " (0.0005629600900667577, '@USAirways me too!'),\n",
              " (0.0005629600900667577, '@USAirways Will do. I appreciate the response.'),\n",
              " (0.0005629600900667577, '@USAirways Will do :)'),\n",
              " (8.517473183639415e-05, '@USAirways lol me too')]"
            ]
          },
          "metadata": {},
          "execution_count": 45
        }
      ]
    },
    {
      "cell_type": "code",
      "metadata": {
        "id": "jwxtPBlgO_Gk",
        "colab": {
          "base_uri": "https://localhost:8080/"
        },
        "outputId": "1191fce7-6085-4835-a9fc-49918882780b"
      },
      "source": [
        "# Specify number of sentences to form the summary\n",
        "sn = 20\n",
        "\n",
        "# Generate summary\n",
        "summary = []\n",
        "for i in range(sn):\n",
        "   print(ranked_sentences[i][1])\n",
        "   summary.append(ranked_sentences[i][1])"
      ],
      "execution_count": null,
      "outputs": [
        {
          "output_type": "stream",
          "name": "stdout",
          "text": [
            "@USAirways Thanks to the friendly US Airways staff that helped me get booked on various flights to get home today.  Almost there!\n",
            "@USAirways thanks for getting me rescheduled on a direct flight to NOLA tonight in 10 minutes--and hopefully an hour earlier getting there!\n",
            "@USAirways Thank you!!! On our way to get her bag now - thanks to having that number 😊\n",
            "@USAirways Stars aligned. Connecting flight was delayed into CLT. Made it! Thanks, glad to know someone is listening. Time for 80° in MoBay!\n",
            "@USAirways Thank you. I'll do that next time!\n",
            "@USAirways @AmericanAir shout out to Diane at EYW for helping get us home today instead of tomorrow (even if a little Late Flight!)\n",
            "@USAirways yes I did thank you! They did a great job turning the flight in jan !\n",
            "@USAirways I'm enjoying my flights so far! You're doing a great job. Today's been tough, so thanks for making my flights comfortable.\n",
            "@USAirways knows customer service!! Thank you for starting our 2 week vacay on an amazing note! Thank you sarita!!!\n",
            "@USAirways we called and were able to get rescheduled. Thank you for the quick responses today!!\n",
            "@USAirways connection made. Thanks again this week. #daddyshome\n",
            "@USAirways - thanks, I hope so. Maybe you can put in a good word for me? ;-)\n",
            "@USAirways thanks to Betty working gate at ILM and lovely gate agents here in CLT helping me get home 2 Phx tonight instead of tomorrow\n",
            "@USAirways @AmericanAir Thank you for a couple of easy, hassle free flights today, professional and friendly staff made everything easy!\n",
            "@USAirways thanks for getting us on ur plane. Awesome flight attendant who is making us smile after difficult travel. #customerservice\n",
            "@USAirways hey guys just want to say I had the best flight ever! Thank you so much. I fell asleep and actually had a wet dream.\n",
            "@USAirways  thank you! Glad to be heading home! Great people at your call center!\n",
            "@USAirways @AmericanAir major issues getting out of Boston, but your crew has been exceptional. Let's see how things roll out in Philly.\n",
            "@USAirways a big thanks to the gate agent flt5127..keeping us informed of the delay#greatcustomerservice\n",
            "@USAirways despite mechanical issues and many delays followed by a Cancelled Flightlation, still getting to Vegas thanks to great gate agents!\n"
          ]
        }
      ]
    }
  ]
}